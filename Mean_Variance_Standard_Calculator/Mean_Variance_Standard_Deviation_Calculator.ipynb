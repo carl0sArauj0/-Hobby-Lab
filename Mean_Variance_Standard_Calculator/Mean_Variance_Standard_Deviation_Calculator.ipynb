{
  "nbformat": 4,
  "nbformat_minor": 0,
  "metadata": {
    "colab": {
      "provenance": []
    },
    "kernelspec": {
      "name": "python3",
      "display_name": "Python 3"
    },
    "language_info": {
      "name": "python"
    }
  },
  "cells": [
    {
      "cell_type": "code",
      "execution_count": 17,
      "metadata": {
        "id": "5qiK20XI9LSJ"
      },
      "outputs": [],
      "source": [
        "import numpy as np"
      ]
    },
    {
      "cell_type": "code",
      "source": [
        "def calculate(list):\n",
        "    if len(list) == 9:\n",
        "      array = np.array(list).reshape(3, 3)\n",
        "      print(array)\n",
        "      print(array.mean())\n",
        "      result = {}\n",
        "      result['Mean'] = [array.mean(axis=0), array.mean(axis=1), array.mean()]\n",
        "      result['Variance'] = [array.var(axis=0), array.var(axis=1), array.var()]\n",
        "      result['Standard Deviation'] = [array.std(axis=0), array.std(axis=1), array.std()]\n",
        "      result['Max'] = [array.max(axis=0), array.max(axis=1), array.max()]\n",
        "      result['Min'] = [array.min(axis=0), array.min(axis=1), array.min()]\n",
        "      result['Sum'] = [array.sum(axis=0), array.sum(axis=1), array.sum()]\n",
        "\n",
        "      for key, value in result.items():\n",
        "        print(key)\n",
        "        print(value)\n",
        "        print()\n",
        "      # print(result)\n",
        "    else:\n",
        "      print('List must contain 9 numbers.')\n",
        "\n",
        "      return calculate"
      ],
      "metadata": {
        "id": "Blsvvzx69W_i"
      },
      "execution_count": 34,
      "outputs": []
    },
    {
      "cell_type": "code",
      "source": [
        "print(calculate([2,6,2,8,4,0,1,5,7]))"
      ],
      "metadata": {
        "colab": {
          "base_uri": "https://localhost:8080/"
        },
        "id": "nVXA58j696yY",
        "outputId": "8125e270-4467-4762-d721-163c320cd3e1"
      },
      "execution_count": 36,
      "outputs": [
        {
          "output_type": "stream",
          "name": "stdout",
          "text": [
            "[[2 6 2]\n",
            " [8 4 0]\n",
            " [1 5 7]]\n",
            "3.888888888888889\n",
            "Mean\n",
            "[array([3.66666667, 5.        , 3.        ]), array([3.33333333, 4.        , 4.33333333]), 3.888888888888889]\n",
            "\n",
            "Variance\n",
            "[array([9.55555556, 0.66666667, 8.66666667]), array([ 3.55555556, 10.66666667,  6.22222222]), 6.987654320987654]\n",
            "\n",
            "Standard Deviation\n",
            "[array([3.09120617, 0.81649658, 2.94392029]), array([1.88561808, 3.26598632, 2.49443826]), 2.6434171674156266]\n",
            "\n",
            "Max\n",
            "[array([8, 6, 7]), array([6, 8, 7]), 8]\n",
            "\n",
            "Min\n",
            "[array([1, 4, 0]), array([2, 0, 1]), 0]\n",
            "\n",
            "Sum\n",
            "[array([11, 15,  9]), array([10, 12, 13]), 35]\n",
            "\n",
            "None\n"
          ]
        }
      ]
    }
  ]
}